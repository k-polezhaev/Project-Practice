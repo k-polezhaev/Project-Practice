{
 "cells": [
  {
   "cell_type": "markdown",
   "metadata": {
    "id": "M-DGa20PaHnu"
   },
   "source": [
    "#Задача 1\n",
    "Написать функцию на вход которой подается строка, состоящая из латинских букв.\n",
    "Функция должна вернуть количество гласных букв (a, e, i, o, u) в этой строке. Написать тесты для кода"
   ]
  },
  {
   "cell_type": "code",
   "execution_count": 87,
   "metadata": {
    "id": "XvX8X_JJ6PCb"
   },
   "outputs": [],
   "source": [
    "def letters(test):\n",
    "    return sum(1 if _ in \"aeiou\" else 0 for _ in test)\n",
    "\n",
    "assert letters(\"aeialllkflaaa\") == 7\n",
    "assert letters(\"aeialllkfla\") == 5"
   ]
  },
  {
   "cell_type": "markdown",
   "metadata": {
    "id": "t2ClV_Y0bbr6"
   },
   "source": [
    "# Задача 2\n",
    "Написать функцию на вход, которой подается строка. Функция должна вернуть true, если\n",
    "каждый символ в строке встречается только 1 раз, иначе должна вернуть false. Написать тесты для кода"
   ]
  },
  {
   "cell_type": "code",
   "execution_count": 89,
   "metadata": {
    "id": "FppbECao6VIz"
   },
   "outputs": [],
   "source": [
    "def once(test):\n",
    "    return True if len(set(test)) == len(test) else False \n",
    "\n",
    "assert once(\"sfgsfgfsefw\") == False\n",
    "assert once(\"asdfghjk\") == True"
   ]
  },
  {
   "cell_type": "markdown",
   "metadata": {
    "id": "udRiIK1cdt6E"
   },
   "source": [
    "# Задача 3\n",
    "Написать функцию, которая принимает положительное число и возвращает количество\n",
    "бит равных 1 в этом числе. Написать тесты для кода"
   ]
  },
  {
   "cell_type": "code",
   "execution_count": 92,
   "metadata": {
    "id": "6tkfDJRz6dp_"
   },
   "outputs": [],
   "source": [
    "def bit(test):\n",
    "     return(bin(test).count('1'))\n",
    "    \n",
    "assert bit(33) == 2\n",
    "assert bit(1) == 1"
   ]
  },
  {
   "cell_type": "markdown",
   "metadata": {
    "id": "26dDUz-Ae17N"
   },
   "source": [
    "# Задача 4\n",
    "Написать функцию, которая принимает положительное число. Функция должна вернуть то,\n",
    "сколько раз необходимо перемножать цифры числа или результат перемножения, чтобы\n",
    "получилось число состоящее из одной цифры.\n",
    "Например, для входного числа:\n",
    "· 39 функция должна вернуть 3, так как 3*9=27 => 2*7=14 => 1*4=4\n",
    "· 4 функция должна вернуть 0, так как число уже состоит из одной цифры\n",
    "· 999 функция должна вернуть 4, так как 9*9*9=729 => 7*2*9=126 => 1*2*6=12 =>\n",
    "1*2=2. Написать тесты для кода"
   ]
  },
  {
   "cell_type": "code",
   "execution_count": 95,
   "metadata": {
    "id": "BH1A_Mgi6i4G"
   },
   "outputs": [],
   "source": [
    "from functools import reduce\n",
    "def magic(n):\n",
    "    count = 0\n",
    "    while n > 9:\n",
    "        n = reduce(lambda x, y: x*int(y), str(n), 1)\n",
    "        count += 1\n",
    "    return count\n",
    "\n",
    "assert magic(999) == 4\n",
    "assert magic(39) == 3\n",
    "assert magic(4) == 0"
   ]
  },
  {
   "cell_type": "markdown",
   "metadata": {
    "id": "0nS-kIa8g8vd"
   },
   "source": [
    "# Задача 5\n",
    "Написать функцию, которая принимает два целочисленных вектора одинаковой длины и\n",
    "возвращает среднеквадратическое отклонение двух векторов. Написать тесты для кода"
   ]
  },
  {
   "cell_type": "code",
   "execution_count": 98,
   "metadata": {
    "id": "8iphx4LM6xbx"
   },
   "outputs": [],
   "source": [
    "def mse(pred, true):\n",
    "    sum = 0\n",
    "    for x, y in zip(pred, true):\n",
    "        sum += (y - x) * (y - x)\n",
    "    return sum / len(pred)\n",
    "\n",
    "assert mse([1, 2, 4, 6], [2, 2, 4, 7]) == 0.5"
   ]
  },
  {
   "cell_type": "markdown",
   "metadata": {
    "id": "vpIPKL439zkw"
   },
   "source": [
    "# Задача 6\n",
    "Написать функцию, принимающая целое положительное число. Функция должна вернуть\n",
    "строку вида “(n1**p1)(n2**p2)…(nk**pk)” представляющая разложение числа на простые\n",
    "множители (если pi == 1, то выводить только ni).\n",
    "Например, для числа 86240 функция должна вернуть “(2**5)(5)(7**2)(11)”. Написать тесты для кода"
   ]
  },
  {
   "cell_type": "code",
   "execution_count": 85,
   "metadata": {
    "id": "pFebmcZk94Jw"
   },
   "outputs": [
    {
     "name": "stdout",
     "output_type": "stream",
     "text": [
      "(2**5)(5)(7**2)(11)"
     ]
    }
   ],
   "source": [
    "def simplemul(test):\n",
    "    i = 2\n",
    "    result = []\n",
    "    while i * i <= test:\n",
    "        while test % i == 0:\n",
    "            result.append(i)\n",
    "            test /= i\n",
    "        i += 1\n",
    "    if test > 1:\n",
    "        result.append(int(test))\n",
    "        \n",
    "    i = 0\n",
    "    while i < len(result):\n",
    "        if result.count(result[i]) > 1: \n",
    "            print(\"(\" + str(result[i]) + \"**\"+ str(result.count(result[i]))  + \")\", end = \"\")\n",
    "            i += result.count(result[i])\n",
    "        else: \n",
    "            print(\"(\" + str(result[i]) + \")\", end = \"\")\n",
    "            i += 1\n",
    "\n",
    "test = 86240\n",
    "simplemul(test)"
   ]
  },
  {
   "cell_type": "markdown",
   "metadata": {
    "id": "ps2s0BudX7A2"
   },
   "source": [
    "# Задача 7\n",
    "Написать функцию, принимающая целое число n, задающее количество кубиков. Функция\n",
    "должна определить, можно ли из данного кол-ва кубиков построить пирамиду, то есть\n",
    "можно ли представить число n как 1^2+2^2+3^2+…+k^2. Если можно, то функция должна\n",
    "вернуть k, иначе строку “It is impossible”. Написать тесты для кода"
   ]
  },
  {
   "cell_type": "code",
   "execution_count": 22,
   "metadata": {
    "id": "3YPjEXxhX_YT"
   },
   "outputs": [],
   "source": [
    "def pyramid(number):\n",
    "    temp = 1\n",
    "    res = 0\n",
    "    while number > res:\n",
    "        res += temp * temp \n",
    "        if res == number:\n",
    "            return temp\n",
    "        temp += 1\n",
    "    return \"It is impossible\"\n",
    "\n",
    "assert pyramid(1) == 1\n",
    "assert pyramid(2) == \"It is impossible\"\n",
    "assert pyramid(5) == 2\n",
    "assert pyramid(14) == 3"
   ]
  },
  {
   "cell_type": "markdown",
   "metadata": {
    "id": "KeKgmIdAQMEJ"
   },
   "source": [
    "# Задача 8\n",
    "Функция принимает на вход положительное число и определяет является ли оно сбалансированным, т.е. сумма цифр до средних равна сумме цифр после. Средними в случае нечетного числа цифр считать одну цифру, в случае четного - две средних. Написать тесты для кода"
   ]
  },
  {
   "cell_type": "code",
   "execution_count": 26,
   "metadata": {
    "id": "gMAAqtqlQrZt"
   },
   "outputs": [],
   "source": [
    "def balance(test):\n",
    "    if len(str(test)) % 2 == 0:\n",
    "        return sum(map(int, str(int(test % (10 ** (len(str(test)) / 2)))))) == sum(map(int, str(int(test // (10 ** (len(str(test)) / 2))))))\n",
    "    else:\n",
    "        return sum(map(int, str(int(test % (10 ** ((len(str(test)) // 2) + 1)))))) == sum(map(int, str(int(test // (10 ** (len(str(test)) // 2))))))\n",
    "    \n",
    "assert balance(611152) == True\n",
    "assert balance(112) == False\n",
    "assert balance(111) == True"
   ]
  },
  {
   "cell_type": "code",
   "execution_count": null,
   "metadata": {},
   "outputs": [],
   "source": []
  }
 ],
 "metadata": {
  "colab": {
   "provenance": []
  },
  "kernelspec": {
   "display_name": "Python 3 (ipykernel)",
   "language": "python",
   "name": "python3"
  },
  "language_info": {
   "codemirror_mode": {
    "name": "ipython",
    "version": 3
   },
   "file_extension": ".py",
   "mimetype": "text/x-python",
   "name": "python",
   "nbconvert_exporter": "python",
   "pygments_lexer": "ipython3",
   "version": "3.11.6"
  }
 },
 "nbformat": 4,
 "nbformat_minor": 1
}
